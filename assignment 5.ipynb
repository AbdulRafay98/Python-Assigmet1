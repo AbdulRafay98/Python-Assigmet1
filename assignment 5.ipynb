{
 "cells": [
  {
   "cell_type": "code",
   "execution_count": 3,
   "metadata": {},
   "outputs": [
    {
     "name": "stdout",
     "output_type": "stream",
     "text": [
      "Enter any non-negative number to find fctorial: 5\n",
      "Factorial of the given number is:  120\n"
     ]
    }
   ],
   "source": [
    "def factorial(value):\n",
    "    for i in range(1,value):\n",
    "        value*=i\n",
    "    print(\"Factorial of the given number is: \",value)\n",
    "value_for_factorial=int(input(\"Enter any non-negative number to find factorial: \"))\n",
    "factorial(value_for_factorial)"
   ]
  },
  {
   "cell_type": "code",
   "execution_count": 12,
   "metadata": {},
   "outputs": [
    {
     "name": "stdout",
     "output_type": "stream",
     "text": [
      "Number of letters as uppercase is:  8 \n",
      "Number of letters as lowercase is:  7\n"
     ]
    }
   ],
   "source": [
    "def check_string(tense):\n",
    "    lowerlet=0\n",
    "    upperlet=0\n",
    "    for i in tense:\n",
    "        if (i.islower()):\n",
    "            lowerlet+=1\n",
    "        elif (i.isupper()):\n",
    "            upperlet+=1\n",
    "    print(\"Number of letters as uppercase is: \",upperlet,\"\\nNumber of letters as lowercase is: \",lowerlet)\n",
    "string=\"PAK ARMY Zindabad\"\n",
    "check_string(string)"
   ]
  },
  {
   "cell_type": "code",
   "execution_count": 17,
   "metadata": {},
   "outputs": [
    {
     "name": "stdout",
     "output_type": "stream",
     "text": [
      "6\n",
      "56\n",
      "34\n",
      "10\n",
      "78\n"
     ]
    }
   ],
   "source": [
    "lst=[1,5,3,6,56,77,34,43,87,10,78,65,11]\n",
    "for i in lst:\n",
    "    if (i%2==0):\n",
    "        print(i)\n",
    "    else:\n",
    "        continue"
   ]
  },
  {
   "cell_type": "code",
   "execution_count": 27,
   "metadata": {},
   "outputs": [
    {
     "data": {
      "text/plain": [
       "False"
      ]
     },
     "execution_count": 27,
     "metadata": {},
     "output_type": "execute_result"
    }
   ],
   "source": [
    "def check_palindrome(word):\n",
    "    for i in range(0, len(word)//2):  \n",
    "        if word[i] != word[len(word)-i-1]: \n",
    "            return False\n",
    "        return True\n",
    "    \n",
    "string=\"malayala\"    \n",
    "check_palindrome(string)"
   ]
  },
  {
   "cell_type": "code",
   "execution_count": 33,
   "metadata": {},
   "outputs": [
    {
     "name": "stdout",
     "output_type": "stream",
     "text": [
      "Enter to check prime or not: 34\n",
      "34 is no  prime number\n",
      "2 times 17 is 34\n"
     ]
    }
   ],
   "source": [
    "def check_prime(num):\n",
    "    if (num>1):\n",
    "        for i in range(2,num):\n",
    "            if(num%i==0):\n",
    "                print(num,\"is no  prime number\")\n",
    "                print(i,\"times\",num//i,\"is\",num)\n",
    "                break\n",
    "        else:\n",
    "            print(num,\"is a prime number\")\n",
    "    else:\n",
    "        print(num,\"is not a prime number\")\n",
    "value=int(input(\"Enter to check prime or not: \"))\n",
    "check_prime(value)"
   ]
  },
  {
   "cell_type": "code",
   "execution_count": 34,
   "metadata": {},
   "outputs": [
    {
     "name": "stdout",
     "output_type": "stream",
     "text": [
      "fruits\n",
      "vegetables\n",
      "biscuits\n",
      "rice\n",
      "curtons\n"
     ]
    }
   ],
   "source": [
    "def shoping_items(*items):\n",
    "    for i in items:\n",
    "        print(i)\n",
    "shoping_items('fruits','vegetables','biscuits','rice','curtons')"
   ]
  },
  {
   "cell_type": "code",
   "execution_count": null,
   "metadata": {},
   "outputs": [],
   "source": []
  }
 ],
 "metadata": {
  "kernelspec": {
   "display_name": "Python 3",
   "language": "python",
   "name": "python3"
  },
  "language_info": {
   "codemirror_mode": {
    "name": "ipython",
    "version": 3
   },
   "file_extension": ".py",
   "mimetype": "text/x-python",
   "name": "python",
   "nbconvert_exporter": "python",
   "pygments_lexer": "ipython3",
   "version": "3.7.3"
  }
 },
 "nbformat": 4,
 "nbformat_minor": 2
}
