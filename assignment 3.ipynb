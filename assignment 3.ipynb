{
 "cells": [
  {
   "cell_type": "code",
   "execution_count": 38,
   "metadata": {},
   "outputs": [
    {
     "name": "stdout",
     "output_type": "stream",
     "text": [
      "simple calulator\n"
     ]
    },
    {
     "name": "stdin",
     "output_type": "stream",
     "text": [
      "enter number:  2\n",
      "enter operator to perform operation:  **\n",
      "enter another num:  2\n"
     ]
    },
    {
     "name": "stdout",
     "output_type": "stream",
     "text": [
      "result of your data: 4\n"
     ]
    }
   ],
   "source": [
    "# #a calculator using Python with addition , subtraction , multiplication ,\n",
    "# division and power.\n",
    "print(\"simple calulator\")\n",
    "firstnum=int(input(\"enter number: \"))\n",
    "oper=input(\"enter operator to perform operation: \")\n",
    "secnum=int(input(\"enter another num: \"))\n",
    "\n",
    "print(\"result of your data: \",end=\"\")\n",
    "if (oper==\"+\"):\n",
    "    print(firstnum+secnum)\n",
    "if (oper==\"-\"):\n",
    "    print(firstnum-secnum)\n",
    "if (oper==\"*\"):\n",
    "    print(firstnum*secnum)\n",
    "if (oper==\"/\"):\n",
    "    result=firstnum/secnum\n",
    "    print(result)\n",
    "if (oper==\"**\"):\n",
    "    print(firstnum**secnum)\n",
    "\n",
    "\n"
   ]
  },
  {
   "cell_type": "code",
   "execution_count": 5,
   "metadata": {},
   "outputs": [
    {
     "name": "stdout",
     "output_type": "stream",
     "text": [
      "Yes int found at position: 0\n",
      "Yes int found at position: 2\n",
      "Yes int found at position: 3\n",
      "Yes int found at position: 4\n"
     ]
    }
   ],
   "source": [
    "# program to check if there is any numeric value in list using for loop\n",
    "list=[1,'apple',64, 128, 256,'mango']\n",
    "\n",
    "for i in  range(len(list)):\n",
    "    y=str(list[i])\n",
    "    if y!=list[i]:\n",
    "        print(\"int found at position:\",i)\n",
    "    else:\n",
    "        print(end=\"\")\n",
    "        "
   ]
  },
  {
   "cell_type": "code",
   "execution_count": 14,
   "metadata": {},
   "outputs": [
    {
     "name": "stdin",
     "output_type": "stream",
     "text": [
      "Enter key for dictionary:  rt\n",
      "value for above key:  rt\n"
     ]
    },
    {
     "name": "stdout",
     "output_type": "stream",
     "text": [
      "{'rt': 'rt'}\n"
     ]
    }
   ],
   "source": [
    "# Python script to add a key to a dictionary\n",
    "doc={}\n",
    "key=input(\"Enter key for dictionary: \")\n",
    "value=input(\"value for above key: \")\n",
    "if key  not in doc.keys():\n",
    "    doc[key]=value\n",
    "print(doc)"
   ]
  },
  {
   "cell_type": "code",
   "execution_count": 25,
   "metadata": {},
   "outputs": [
    {
     "name": "stdout",
     "output_type": "stream",
     "text": [
      "Sum of numeric values:  39\n"
     ]
    }
   ],
   "source": [
    "# Python program to sum all the numeric items in a dictionary\n",
    "dic={0: 0, 1: 1, 2: 4, 3: 9, 4: 'banana', 5: 25}\n",
    "sum=0\n",
    "for key,value in dic.items():\n",
    "    v=str(value)\n",
    "    if (v!=value):\n",
    "        sum=sum+value\n",
    "        \n",
    "print(\"Sum of numeric values: \", sum)\n",
    "    "
   ]
  },
  {
   "cell_type": "code",
   "execution_count": 47,
   "metadata": {},
   "outputs": [
    {
     "name": "stdout",
     "output_type": "stream",
     "text": [
      "Founf duplicate value ; -20\n",
      "Founf duplicate value ; -20\n",
      "Founf duplicate value ; 20\n",
      "Founf duplicate value ; 20\n",
      "Founf duplicate value ; 30\n",
      "Founf duplicate value ; 60\n",
      "[-20, -20, -20, 10, 20, 20, 20, 30, 30, 40, 50, 60, 60]\n",
      "total duplicate value:  6\n"
     ]
    }
   ],
   "source": [
    "# program to identify duplicate values from list\n",
    "list=[10, 20, 30, 20, 20, 30, 40, 50, -20, 60, 60, -20, -20]\n",
    "list.sort()\n",
    "duplicateValue=0\n",
    "for b in range(len(list)-1):\n",
    "    if list[b]==list[b+1]:\n",
    "        print(\"Founf duplicate value ;\", list[b+1])\n",
    "        duplicateValue+=1\n",
    "        \n",
    "print(list)\n",
    "print(\"total duplicate value: \", duplicateValue)"
   ]
  },
  {
   "cell_type": "code",
   "execution_count": 51,
   "metadata": {},
   "outputs": [
    {
     "name": "stdin",
     "output_type": "stream",
     "text": [
      "enter Value to check their existance: cake\n"
     ]
    },
    {
     "name": "stdout",
     "output_type": "stream",
     "text": [
      "word already exist in dictionary\n"
     ]
    }
   ],
   "source": [
    "# a Python script to check if a given key already exists in a dictionary\n",
    "dic={'apple': 'fruit', 'beetroot': 'vegetable', 'cake': 'dessert'}\n",
    "word=input(\"enter Value to check their existance:\")\n",
    "if word in dic:\n",
    "    print(\"word already exist in dictionary\")\n",
    "else:\n",
    "      print(\"word not found: \")"
   ]
  },
  {
   "cell_type": "code",
   "execution_count": null,
   "metadata": {},
   "outputs": [],
   "source": []
  }
 ],
 "metadata": {
  "kernelspec": {
   "display_name": "Python 3",
   "language": "python",
   "name": "python3"
  },
  "language_info": {
   "codemirror_mode": {
    "name": "ipython",
    "version": 3
   },
   "file_extension": ".py",
   "mimetype": "text/x-python",
   "name": "python",
   "nbconvert_exporter": "python",
   "pygments_lexer": "ipython3",
   "version": "3.7.3"
  }
 },
 "nbformat": 4,
 "nbformat_minor": 2
}
