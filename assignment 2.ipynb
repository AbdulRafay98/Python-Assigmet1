{
 "cells": [
  {
   "cell_type": "code",
   "execution_count": 2,
   "metadata": {},
   "outputs": [
    {
     "name": "stdout",
     "output_type": "stream",
     "text": [
      "Enter number of  First subject\n"
     ]
    },
    {
     "name": "stdin",
     "output_type": "stream",
     "text": [
      " 34\n"
     ]
    },
    {
     "name": "stdout",
     "output_type": "stream",
     "text": [
      "Enter number of  Second subject\n"
     ]
    },
    {
     "name": "stdin",
     "output_type": "stream",
     "text": [
      " 45\n"
     ]
    },
    {
     "name": "stdout",
     "output_type": "stream",
     "text": [
      "Enter number of  Third subject\n"
     ]
    },
    {
     "name": "stdin",
     "output_type": "stream",
     "text": [
      " 12\n"
     ]
    },
    {
     "name": "stdout",
     "output_type": "stream",
     "text": [
      "Enter number of  Fourth subject\n"
     ]
    },
    {
     "name": "stdin",
     "output_type": "stream",
     "text": [
      " 21\n"
     ]
    },
    {
     "name": "stdout",
     "output_type": "stream",
     "text": [
      "Enter number of  Fifth subject\n"
     ]
    },
    {
     "name": "stdin",
     "output_type": "stream",
     "text": [
      " 21\n"
     ]
    },
    {
     "name": "stdout",
     "output_type": "stream",
     "text": [
      "Percentage according to the subject numbers: 26.6\n",
      "You are fail\n"
     ]
    }
   ],
   "source": [
    "list=['First', 'Second', 'Third', 'Fourth', 'Fifth']\n",
    "Sum=0\n",
    "for r in list:\n",
    "    print(\"Enter number of \",r,\"subject\")\n",
    "    numb=int(input())\n",
    "    Sum+=numb\n",
    "totalMrks=500    \n",
    "percent=Sum/totalMrks*100\n",
    "print(\"Percentage according to the subject numbers:\", percent)\n",
    "if (percent>=80.0):\n",
    "    print(\"Grade is: A\")\n",
    "elif (percent>=70.0 and percent<80.0):\n",
    "    print(\"Grade is: B\")\n",
    "elif (percent>=60.0 and percent<70.0):\n",
    "    print(\"Grade is: C\")\n",
    "else:\n",
    "    print(\"YOU ARE FAIL\")\n"
   ]
  },
  {
   "cell_type": "code",
   "execution_count": 6,
   "metadata": {},
   "outputs": [
    {
     "name": "stdin",
     "output_type": "stream",
     "text": [
      "Try giving any number to check wheather even and odd:  33\n"
     ]
    },
    {
     "name": "stdout",
     "output_type": "stream",
     "text": [
      "We found Odd Number: \n"
     ]
    }
   ],
   "source": [
    "numbToCheck=int(input(\"Try giving any number to check wheather even and odd: \"))\n",
    "Value=numbToCheck%2\n",
    "if (Value==0):\n",
    "    print(\"Your input is an Even Number: \")\n",
    "else:\n",
    "    print(\"We found Odd Number: \")"
   ]
  },
  {
   "cell_type": "code",
   "execution_count": 7,
   "metadata": {},
   "outputs": [
    {
     "name": "stdout",
     "output_type": "stream",
     "text": [
      "length of the list is: 9\n"
     ]
    }
   ],
   "source": [
    "list=[1,2,3,4,5,6,7,8,9]\n",
    "print(\"length of the list is:\", len(list))"
   ]
  },
  {
   "cell_type": "code",
   "execution_count": 98,
   "metadata": {},
   "outputs": [
    {
     "name": "stdout",
     "output_type": "stream",
     "text": [
      "sum of all int in given list:  147\n"
     ]
    }
   ],
   "source": [
    "sum=0\n",
    "lst = [3,54,'lion',4,'tiger',56,7,'lepard',23]\n",
    "for x in lst:\n",
    "    y=str(x)\n",
    "    if (y==x):\n",
    "        print(end=\"\")\n",
    "    else:\n",
    "        print(end=\"\")\n",
    "        sum+=x\n",
    "print(\"sum of all int in given list: \",sum)"
   ]
  },
  {
   "cell_type": "code",
   "execution_count": 103,
   "metadata": {},
   "outputs": [
    {
     "name": "stdout",
     "output_type": "stream",
     "text": [
      "greater number is:  971\n"
     ]
    }
   ],
   "source": [
    "list = [232, 971, 686, 32, 508, 222, 324, 251, 34, 355, 89]\n",
    "greater=list[-1]\n",
    "for x in list:\n",
    "    if (x>greater):\n",
    "        greater=x\n",
    "print(\"greater number is: \",greater)"
   ]
  },
  {
   "cell_type": "code",
   "execution_count": 106,
   "metadata": {},
   "outputs": [
    {
     "name": "stdout",
     "output_type": "stream",
     "text": [
      "sum of all numbers less than five : 7\n"
     ]
    }
   ],
   "source": [
    "sum=0\n",
    "list = [1, 1, 2, 3, 5, 8, 13, 21, 34, 55, 89]\n",
    "for x in list:\n",
    "    if (x<5):\n",
    "        sum+=x\n",
    "    else:\n",
    "        continue\n",
    "print(\"sum of all numbers less than five :\",sum)\n",
    "        "
   ]
  },
  {
   "cell_type": "code",
   "execution_count": null,
   "metadata": {},
   "outputs": [],
   "source": []
  }
 ],
 "metadata": {
  "kernelspec": {
   "display_name": "Python 3",
   "language": "python",
   "name": "python3"
  },
  "language_info": {
   "codemirror_mode": {
    "name": "ipython",
    "version": 3
   },
   "file_extension": ".py",
   "mimetype": "text/x-python",
   "name": "python",
   "nbconvert_exporter": "python",
   "pygments_lexer": "ipython3",
   "version": "3.7.3"
  }
 },
 "nbformat": 4,
 "nbformat_minor": 2
}
