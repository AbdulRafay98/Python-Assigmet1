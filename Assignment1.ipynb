{
 "cells": [
  {
   "cell_type": "code",
   "execution_count": 1,
   "metadata": {},
   "outputs": [
    {
     "name": "stdout",
     "output_type": "stream",
     "text": [
      "Twinkle, twinkle, little star,\n",
      "      How I wonder what you are! \n",
      "            Up above the world so high,\n",
      "            Like a diamond in the sky. \n",
      "Twinkle, twinkle, little star,\n",
      "      How I wonder what you are! \n"
     ]
    }
   ],
   "source": [
    "def displaystrinng():\n",
    "    print(\"Twinkle, twinkle, little star,\")\n",
    "    print(6*\" \"+\"How I wonder what you are! \")\n",
    "\n",
    "displaystrinng();\n",
    "print(12*\" \"+\"Up above the world so high,\")\n",
    "print(12*\" \"+\"Like a diamond in the sky. \")\n",
    "displaystrinng();\n"
   ]
  },
  {
   "cell_type": "code",
   "execution_count": 2,
   "metadata": {},
   "outputs": [
    {
     "name": "stdout",
     "output_type": "stream",
     "text": [
      "system version\n",
      "3.7.3 (default, Mar 27 2019, 17:13:21) [MSC v.1915 64 bit (AMD64)]\n",
      "version info\n",
      "sys.version_info(major=3, minor=7, micro=3, releaselevel='final', serial=0)\n"
     ]
    }
   ],
   "source": [
    "import sys\n",
    "print(\"system version\")\n",
    "print(sys.version)\n",
    "print(\"version info\")\n",
    "print(sys.version_info)\n"
   ]
  },
  {
   "cell_type": "code",
   "execution_count": 3,
   "metadata": {},
   "outputs": [
    {
     "name": "stdout",
     "output_type": "stream",
     "text": [
      "now time = 2019-11-03 14:26:42.892367\n",
      "date = 03/11/2019\n"
     ]
    }
   ],
   "source": [
    "from datetime import datetime,date\n",
    "now = datetime.now()\n",
    "\n",
    "print(\"now time =\", now)\n",
    "print(\"date =\", now.strftime(\"%d/%m/%Y\"))\n"
   ]
  },
  {
   "cell_type": "code",
   "execution_count": 4,
   "metadata": {},
   "outputs": [
    {
     "name": "stdin",
     "output_type": "stream",
     "text": [
      "Enter value of raduis:  5\n"
     ]
    },
    {
     "name": "stdout",
     "output_type": "stream",
     "text": [
      "7.024814731040727\n"
     ]
    }
   ],
   "source": [
    "import math\n",
    "rad=float(input(\"Enter value of raduis: \"))\n",
    "PI=math.pi\n",
    "rad=math.sqrt(rad)\n",
    "area=PI*rad\n",
    "\n",
    "print(area)\n"
   ]
  },
  {
   "cell_type": "code",
   "execution_count": 5,
   "metadata": {},
   "outputs": [
    {
     "name": "stdin",
     "output_type": "stream",
     "text": [
      "your first name : abdul\n",
      "your last name : rafay\n"
     ]
    },
    {
     "name": "stdout",
     "output_type": "stream",
     "text": [
      "name in reverse : rafay abdul\n"
     ]
    }
   ],
   "source": [
    "f=input(\"your first name :\")\n",
    "l=input(\"your last name :\")\n",
    "\n",
    "print(\"name in reverse :\", l,f)\n"
   ]
  },
  {
   "cell_type": "code",
   "execution_count": 6,
   "metadata": {},
   "outputs": [
    {
     "name": "stdin",
     "output_type": "stream",
     "text": [
      "your first num : 4\n",
      "your last num : 7778\n"
     ]
    },
    {
     "name": "stdout",
     "output_type": "stream",
     "text": [
      "after addition : 7782\n"
     ]
    }
   ],
   "source": [
    "f=int(input(\"your first num :\"))\n",
    "s=int(input(\"your last num :\"))\n",
    "\n",
    "print(\"after addition :\", f+s)\n"
   ]
  }
 ],
 "metadata": {
  "kernelspec": {
   "display_name": "Python 3",
   "language": "python",
   "name": "python3"
  },
  "language_info": {
   "codemirror_mode": {
    "name": "ipython",
    "version": 3
   },
   "file_extension": ".py",
   "mimetype": "text/x-python",
   "name": "python",
   "nbconvert_exporter": "python",
   "pygments_lexer": "ipython3",
   "version": "3.7.3"
  }
 },
 "nbformat": 4,
 "nbformat_minor": 2
}
