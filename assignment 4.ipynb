{
 "cells": [
  {
   "cell_type": "code",
   "execution_count": 13,
   "metadata": {},
   "outputs": [
    {
     "name": "stdout",
     "output_type": "stream",
     "text": [
      "Dictionary key values at start\n",
      "{'first_name': 'Robert', 'last_name': 'Dawny', 'age': 26, 'city': 'Larkana'}\n",
      "\n",
      "Printing each value separately\n",
      "first_name -> Robert\n",
      "last_name -> Dawny\n",
      "age -> 26\n",
      "city -> Larkana\n",
      "\n",
      "dictionary after adding new key value\n",
      "{'first_name': 'Robert', 'last_name': 'Dawny', 'age': 26, 'city': 'Larkana', 'qualification': 'Secondary level'}\n",
      "\n",
      "updating 'qualification' value\n",
      "{'first_name': 'Robert', 'last_name': 'Dawny', 'age': 26, 'city': 'Larkana', 'qualification': 'Higher level'}\n",
      "\n",
      "deleted qualification key value\n",
      "{'first_name': 'Robert', 'last_name': 'Dawny', 'age': 26, 'city': 'Larkana'}\n"
     ]
    }
   ],
   "source": [
    "person_dic={'first_name':'Robert','last_name':'Dawny','age':26,'city':'Larkana'}\n",
    "print(\"Dictionary key values at start\")\n",
    "print(person_dic)\n",
    "print(\"\\nPrinting each value separately\")\n",
    "for x in person_dic.keys():\n",
    "    print(x,\"->\",person_dic[x])\n",
    "    \n",
    "#adding new key value to the dictionary\n",
    "person_dic['qualification']=\"Secondary level\"\n",
    "print(\"\\ndictionary after adding new key value\")\n",
    "print(person_dic)\n",
    "\n",
    "#updating qualification key \n",
    "person_dic['qualification']='Higher level'\n",
    "print(\"\\nupdating 'qualification' value\")\n",
    "print(person_dic)\n",
    "\n",
    "#deleting qualification key\n",
    "del person_dic['qualification']\n",
    "print(\"\\ndeleted qualification key value\")\n",
    "print(person_dic)"
   ]
  },
  {
   "cell_type": "code",
   "execution_count": 28,
   "metadata": {},
   "outputs": [
    {
     "name": "stdout",
     "output_type": "stream",
     "text": [
      "Denver\n",
      "City of COLOADO.\n",
      "It's population is about 619,968.\n",
      "Denver has one of the most walkable downtowns in the nation\n",
      "\n",
      "Tokyo\n",
      "One of the city of Japan.\n",
      "It's population is approx. 9.273 million.\n",
      "Tokyo is the largest metropolitan area in the world\n",
      " \n",
      "Berlin\n",
      "Capital city of Germany.\n",
      "it's population is 3.748 million.\n",
      "The city full of stories and fun facts!\n",
      "\n",
      "\n"
     ]
    }
   ],
   "source": [
    "cities=['Denver','Tokyo','Berlin']\n",
    "Denver_info={'city':'City of COLOADO.','population':'It\\'s population is about 619,968.','fact':'Denver has one of the most walkable downtowns in the nation\\n'}\n",
    "Tokyo_info={'city':'One of the city of Japan.','population':'It\\'s population is approx. 9.273 million.','fact':'Tokyo is the largest metropolitan area in the world\\n '}\n",
    "Berlin_info={'city':'Capital city of Germany.','population':'it\\'s population is 3.748 million.','fact':'The city full of stories and fun facts!\\n\\n'}\n",
    "print(cities[0])\n",
    "for x in Denver_info.values():\n",
    "    print(x)\n",
    "    \n",
    "print(cities[1])\n",
    "for y in Tokyo_info.values():\n",
    "    print(y)\n",
    "    \n",
    "print(cities[2])\n",
    "for z in Berlin_info.values():\n",
    "    print(z)"
   ]
  },
  {
   "cell_type": "code",
   "execution_count": null,
   "metadata": {},
   "outputs": [
    {
     "name": "stdin",
     "output_type": "stream",
     "text": [
      "Enter your age:  2\n"
     ]
    },
    {
     "name": "stdout",
     "output_type": "stream",
     "text": [
      "Your ticket is of $0\n"
     ]
    },
    {
     "name": "stdin",
     "output_type": "stream",
     "text": [
      "Enter your age:  4\n"
     ]
    },
    {
     "name": "stdout",
     "output_type": "stream",
     "text": [
      "Your ticket is of $10\n"
     ]
    },
    {
     "name": "stdin",
     "output_type": "stream",
     "text": [
      "Enter your age:  5\n"
     ]
    },
    {
     "name": "stdout",
     "output_type": "stream",
     "text": [
      "Your ticket is of $10\n"
     ]
    },
    {
     "name": "stdin",
     "output_type": "stream",
     "text": [
      "Enter your age:  1\n"
     ]
    },
    {
     "name": "stdout",
     "output_type": "stream",
     "text": [
      "Your ticket is of $0\n"
     ]
    }
   ],
   "source": [
    "while True:\n",
    "    age=int(input(\"Enter your age: \"))\n",
    "    if(age<3):\n",
    "        ticket=0\n",
    "    if(age>=3):\n",
    "        if(age<+12):\n",
    "            ticket=10\n",
    "        else:\n",
    "            ticket=15\n",
    "    print(\"Your ticket is of $\",end=\"\")\n",
    "    print(ticket)"
   ]
  },
  {
   "cell_type": "code",
   "execution_count": 21,
   "metadata": {},
   "outputs": [
    {
     "name": "stdout",
     "output_type": "stream",
     "text": [
      "One of my favorite books is Alice in Wonderland.\n"
     ]
    }
   ],
   "source": [
    "def favorite_book(title):\n",
    "    print(title)\n",
    "favorite_book(\"One of my favorite books is Alice in Wonderland.\")\n"
   ]
  },
  {
   "cell_type": "code",
   "execution_count": 1,
   "metadata": {},
   "outputs": [
    {
     "name": "stdout",
     "output_type": "stream",
     "text": [
      "CHOOSE THE HIDDENT NUMBER\n",
      "YOU HAVE 3 CHOICES\n",
      "\n",
      "1"
     ]
    },
    {
     "name": "stdin",
     "output_type": "stream",
     "text": [
      "Choice to guess the HIDDEN number: 5\n"
     ]
    },
    {
     "name": "stdout",
     "output_type": "stream",
     "text": [
      "Hidden number is:  11\n",
      "TRY SOMETHING ELSE\n",
      "May be next number will be 12 \n",
      "\n",
      "2"
     ]
    },
    {
     "name": "stdin",
     "output_type": "stream",
     "text": [
      "Choice to guess the HIDDEN number: 7\n"
     ]
    },
    {
     "name": "stdout",
     "output_type": "stream",
     "text": [
      "Hidden number is:  9\n",
      "TRY SOMETHING ELSE\n",
      "May be next number will be 12 \n",
      "\n",
      "3"
     ]
    },
    {
     "name": "stdin",
     "output_type": "stream",
     "text": [
      "Choice to guess the HIDDEN number: 4\n"
     ]
    },
    {
     "name": "stdout",
     "output_type": "stream",
     "text": [
      "CONGAGULATION!\n",
      "You choose the correct number\n",
      "YOU WIN\n"
     ]
    }
   ],
   "source": [
    "from random import choice\n",
    "list=[1,2,3,4,5,6,7,8,9,1,11,12,13]\n",
    "print(\"CHOOSE THE HIDDENT NUMBER\\nYOU HAVE 3 CHOICES\\n\")\n",
    "for i in range(3):\n",
    "    print(i+1,end=\"\")\n",
    "    field=int(input(\"Choice to guess the HIDDEN number:\"))\n",
    "    random_num=choice(list)\n",
    "    if (random_num==field):\n",
    "        print(\"CONGAGULATION!\\nYou choose the correct number\\nYOU WIN\")\n",
    "        break\n",
    "    else:\n",
    "        print(\"Hidden number is: \",random_num)\n",
    "        if(i==2):\n",
    "            print(\"Game Over\\nYou don't any chances left\")\n",
    "            continue\n",
    "        print(\"TRY SOMETHING ELSE\\nMay be next number will be\",choice(list),\"\\n\")"
   ]
  },
  {
   "cell_type": "markdown",
   "metadata": {},
   "source": []
  }
 ],
 "metadata": {
  "kernelspec": {
   "display_name": "Python 3",
   "language": "python",
   "name": "python3"
  },
  "language_info": {
   "codemirror_mode": {
    "name": "ipython",
    "version": 3
   },
   "file_extension": ".py",
   "mimetype": "text/x-python",
   "name": "python",
   "nbconvert_exporter": "python",
   "pygments_lexer": "ipython3",
   "version": "3.7.3"
  }
 },
 "nbformat": 4,
 "nbformat_minor": 2
}
