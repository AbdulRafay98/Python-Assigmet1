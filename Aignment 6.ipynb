{
 "cells": [
  {
   "cell_type": "markdown",
   "metadata": {},
   "source": [
    "# object oiente pogramming"
   ]
  },
  {
   "cell_type": "markdown",
   "metadata": {},
   "source": [
    "programming language which is based on the concept of 'objects' and contain data in form of field and procedures and describe object contents and behaviour through the classes methods. Examples are Java, Javascript, C, Python, Ruby and etc "
   ]
  },
  {
   "cell_type": "markdown",
   "metadata": {},
   "source": [
    "# benefits of OOP"
   ]
  },
  {
   "cell_type": "raw",
   "metadata": {},
   "source": [
    "Software complexity is easily managed\n",
    "It is easy to partition the work in a project based on objects\n",
    "It is possible to have multiple objects to coexist without any interference\n",
    "Development is faster and cheaper, with better software maintainability\n"
   ]
  },
  {
   "cell_type": "markdown",
   "metadata": {},
   "source": [
    "# difference btween function and methods"
   ]
  },
  {
   "cell_type": "markdown",
   "metadata": {},
   "source": [
    "A function is a piece of code that is called by name. It can be passed data to operate on (i.e. the parameters) and can optionally return data (the return value). All data that is passed to a function is explicitly passed.\n",
    "Python method is like a function, except it is attached to an object. We call a method on an object, and it possibly makes changes to that object. A method, then, belongs to a class."
   ]
  },
  {
   "cell_type": "markdown",
   "metadata": {},
   "source": [
    "# definition"
   ]
  },
  {
   "cell_type": "markdown",
   "metadata": {},
   "source": [
    "Class is a blueprint for creating objects providing initials values for members variables and atributes and implementations of behavior which is methods or functions"
   ]
  },
  {
   "cell_type": "markdown",
   "metadata": {},
   "source": [
    "An object is a specific instance of a class, it contains real values instead of variables. It is a component of a program that knows how to perform certain actions and how to interact with other elements of the program."
   ]
  },
  {
   "cell_type": "markdown",
   "metadata": {},
   "source": [
    "Classes and objects have attributes. Attributes are data stored inside a class or instance and represent the state or quality of the class or instance. In short, attributes store information about the instance."
   ]
  },
  {
   "cell_type": "markdown",
   "metadata": {},
   "source": [
    "The term \"behavior\" refers to how objects interact with each other , and it is defined by the operations an object can perform."
   ]
  },
  {
   "cell_type": "code",
   "execution_count": 10,
   "metadata": {},
   "outputs": [],
   "source": [
    "class Car:\n",
    "    model=2019\n",
    "    color=\"white\"\n",
    "    name=\"suxuki\"\n",
    "    engine=\"electical\"\n",
    "    def methods_1():\n",
    "        print(\"methos 1\")\n",
    "    def methods_2():\n",
    "        print(\"methos 2\")\n",
    "    def methods_3():\n",
    "        print(\"methos 3\")\n",
    "        \n",
    "obj1=Car()\n",
    "obj2=Car()\n",
    "obj3=Car()\n",
    "obj4=Car()\n",
    "obj5=Car()"
   ]
  },
  {
   "cell_type": "code",
   "execution_count": null,
   "metadata": {},
   "outputs": [],
   "source": []
  }
 ],
 "metadata": {
  "kernelspec": {
   "display_name": "Python 3",
   "language": "python",
   "name": "python3"
  },
  "language_info": {
   "codemirror_mode": {
    "name": "ipython",
    "version": 3
   },
   "file_extension": ".py",
   "mimetype": "text/x-python",
   "name": "python",
   "nbconvert_exporter": "python",
   "pygments_lexer": "ipython3",
   "version": "3.7.3"
  }
 },
 "nbformat": 4,
 "nbformat_minor": 2
}
